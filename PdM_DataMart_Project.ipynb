{
    "metadata": {
        "kernelspec": {
            "name": "SQL",
            "display_name": "SQL",
            "language": "sql"
        },
        "language_info": {
            "name": "sql",
            "version": ""
        }
    },
    "nbformat_minor": 2,
    "nbformat": 4,
    "cells": [
        {
            "cell_type": "markdown",
            "source": [
                "# **Predictive Maintainance Datamart Analysis**\n",
                "\n",
                "**📝Dataset Overview:**  \n",
                "\n",
                "These datasets supports the analysis of machine performance and predictiive maintenance by integrating sensor telemetry, error logs, maintenance actions, and failure events. The analysis can help predict failures, optimize maintainance schedules and reduce machine downtime.\n",
                "\n",
                "**📝 Data Source:**  \n",
                "\n",
                "The source datasets include:\n",
                "\n",
                "- `PdM_errors`:           Contains error logs with timestamps and machine IDs.\n",
                "- `PdM_failures`:       Tracks machine failures with timestamps and failure types.\n",
                "- `PdM_machines`:      Details about the machines, such as ID, age, and type.\n",
                "- `PdM_maint`:           Maintenance records including timestamps and activity types.\n",
                "- `PdM_telemetry`:    Time-series data with sensor readings for each machine, such as voltage, rotation, pressure and vibration.\n",
                "\n",
                "The datasets are sourced from Microsoft Azure Predictive Maintenance Dataset.  \n",
                "It can be found on [Kaggle](https://www.kaggle.com/datasets/arnabbiswas1/microsoft-azure-predictive-maintenance/data).  \n",
                ""
            ],
            "metadata": {
                "azdata_cell_guid": "91384faa-e82f-4d80-b1e4-f6d0eb8b26c7"
            },
            "attachments": {}
        },
        {
            "cell_type": "markdown",
            "source": [
                "## 🖥️ **Steps to Mart Creation**\n",
                "\n",
                "Paragraph/text\n",
                "\n",
                "### **📍1. Schema Creation**  \n",
                "\n",
                "In this project, schemas are being created to logically separate and manage data at different stages of the data processing lifecycle. Each schema serves a specific purpose to ensure data integrity, performance, and maintainability\n",
                "\n",
                "- `stg` (staging schema):       Acts as a temporary area to store raw data before transformation.  \n",
                "- `dim` (dimension schema):     Stores descriptive or reference data used for categorization and filtering.  \n",
                "- `f` (fact schema):              Centralizes quantitative data like failure counts, error counts, and average telemetry readings.  \n",
                "\n",
                "```\n",
                "INSERT INTO dim.Customers(CustomerID, Customer, City, Country, LoadDate, SourceCountry)\n",
                "\tSELECT nwc.CustomerID\n",
                "\t\t  ,nwc.CompanyName \n",
                "\t\t  ,nwc.City\n",
                "\t\t  ,nwc.Country\n",
                "\t\t  ,CAST(getdate() as DATE)\n",
                "\t\t  ,concat('Country = ', nwc.Country) \n",
                "\tFROM Northwind_2023.dbo.Customers nwc\n",
                "\tWHERE nwc.CustomerID not in (SELECT CustomerID FROM dim.Customers)\n",
                ";\n",
                "GO\n",
                "```\n",
                ""
            ],
            "metadata": {
                "azdata_cell_guid": "e847e8cb-cb3d-4f26-bf06-33930acf1ac5"
            },
            "attachments": {}
        },
        {
            "cell_type": "markdown",
            "source": [
                "<span style=\"color: var(--vscode-foreground);\">The datamart will be constructed as the following Entity Relationship Diagram:</span>"
            ],
            "metadata": {
                "azdata_cell_guid": "77048387-2e25-4bcf-a5c9-43af622c8f1f"
            },
            "attachments": {}
        },
        {
            "cell_type": "markdown",
            "source": [
                "### **📍2. Dimension tables creation**\n",
                "\n",
                "\n",
                "\n",
                "\\- Tables Creation:\n",
                "\n",
                "    - dim.Employees\n",
                "\n",
                "    - dim.Time\n",
                "\n",
                "    - dim.t3\n",
                "\n",
                "    - dim.t4\n",
                "\n",
                "\\-- continue with sections and explanation for fact table(s"
            ],
            "metadata": {
                "azdata_cell_guid": "e6d78e69-c834-4398-8fbc-418e24789e4f"
            },
            "attachments": {}
        },
        {
            "cell_type": "markdown",
            "source": [
                "### **3. Fact table creation**\n",
                "\n",
                "\n",
                "\\- Tables Creation:\n",
                "\n",
                "    - dim.Employees\n",
                "\n",
                "    - dim.Time\n",
                "\n",
                "    - dim.t3\n",
                "\n",
                "    - dim.t4\n",
                "\n",
                "\\-- continue with sections and explanation for fact table(s"
            ],
            "metadata": {
                "azdata_cell_guid": "f4745fe5-7d09-4300-86bc-1199d87600c6"
            },
            "attachments": {}
        },
        {
            "cell_type": "markdown",
            "source": [
                "## Data Loading for Test (Seed Data)\n",
                "\n",
                "Show explanation and code for your data loader(s)\n",
                "\n",
                "```\n",
                "INSERT INTO dim.Customers(CustomerID, Customer, City, Country, LoadDate, SourceCountry)\n",
                "\tSELECT nwc.CustomerID\n",
                "\t\t  ,nwc.CompanyName \n",
                "\t\t  ,nwc.City\n",
                "\t\t  ,nwc.Country\n",
                "\t\t  ,CAST(getdate() as DATE)\n",
                "\t\t  ,concat('Country = ', nwc.Country) \n",
                "\tFROM Northwind_2023.dbo.Customers nwc\n",
                "\tWHERE nwc.CustomerID not in (SELECT CustomerID FROM dim.Customers)\n",
                ";\n",
                "GO\n",
                "```"
            ],
            "metadata": {
                "azdata_cell_guid": "0d3cbdb4-91d4-4abe-90da-1cdfd5009837"
            },
            "attachments": {}
        },
        {
            "cell_type": "markdown",
            "source": [
                "_References_\n",
                "\n",
                "_All emojis in this notebook are sourced from [emojicopy](https:\\emojicopy.com\\)._\n",
                "\n",
                "_The datamart was created based on the principles of Star Schema Design as outlined by [Ralph Kimball](https://www.kimballgroup.com/data-warehouse-business-intelligence-resources/kimball-techniques/dimensional-modeling-techniques/)._"
            ],
            "metadata": {
                "azdata_cell_guid": "2b44ff3c-8b23-4506-af19-75c8b91151fc"
            },
            "attachments": {}
        }
    ]
}