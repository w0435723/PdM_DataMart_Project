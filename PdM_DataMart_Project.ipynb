{
    "metadata": {
        "kernelspec": {
            "name": "SQL",
            "display_name": "SQL",
            "language": "sql"
        },
        "language_info": {
            "name": "sql",
            "version": ""
        }
    },
    "nbformat_minor": 2,
    "nbformat": 4,
    "cells": [
        {
            "cell_type": "markdown",
            "source": [
                "# **Predictive Maintenance Datamart Notebook**\n",
                "\n",
                "**📝 Dataset Overview:**  \n",
                "\n",
                "These datasets supports the analysis of machine performance and predictiive maintenance by integrating sensor telemetry, error logs, maintenance actions, and failure events. The analysis can help predict failures, optimize maintenance schedules and reduce machine downtime.\n",
                "\n",
                "**📝 Data Source:**  \n",
                "\n",
                "The source datasets include:\n",
                "\n",
                "| Source Table      | Description                                                                                          |\n",
                "|-------------------|------------------------------------------------------------------------------------------------------|\n",
                "| `PdM_errors`      | Contains error logs with timestamps and machine IDs.                                                 |\n",
                "| `PdM_failures`    | Tracks machine failures with timestamps and failure types.                                           |\n",
                "| `PdM_machines`    | Details about the machines, such as ID, age, and type.                                               |\n",
                "| `PdM_maint`       | Maintenance records including timestamps and activity types.                                         |\n",
                "| `PdM_telemetry`   | Time-series data with sensor readings for each machine, such as voltage, rotation, pressure, and vibration. |  \n",
                "\n",
                "\n",
                "\n",
                "The datasets are sourced from Microsoft Azure Predictive Maintenance Dataset. It can be found on [Kaggle](https://www.kaggle.com/datasets/arnabbiswas1/microsoft-azure-predictive-maintenance/data).  \n",
                ""
            ],
            "metadata": {
                "azdata_cell_guid": "91384faa-e82f-4d80-b1e4-f6d0eb8b26c7"
            },
            "attachments": {}
        },
        {
            "cell_type": "markdown",
            "source": [
                "## 🖥️ **Steps to Mart Creation**\n",
                "\n",
                "\n",
                "### **📍1. Schema Creation**\n",
                "\n",
                "In this project, schemas are being created to logically separate and manage data at different stages of the data processing lifecycle. Each schema serves a specific purpose to ensure data integrity, performance, and maintainability. \n",
                "\n",
                "| Schema            | Description                                                                                       |\n",
                "|--------------------|---------------------------------------------------------------------------------------------------|\n",
                "| `stg` (staging)  | Acts as a temporary area to store raw data before transformation.                            |\n",
                "| `dim` (dimension)| Stores descriptive or reference data used for categorization and filtering.                 |\n",
                "| `f` (fact)       | Centralizes quantitative data like failure counts, error counts, and average telemetry readings. |\n",
                " \n",
                "\n",
                "SQL scripts will be used to define the schema and tables using DDL (Data Definition Language).\n",
                "\n",
                "```\n",
                "-- Creating Dimension Schema\n",
                "IF NOT EXISTS (SELECT * FROM sys.schemas WHERE name = 'dim' ) \n",
                "BEGIN\n",
                "\tEXEC sp_executesql N'CREATE SCHEMA dim AUTHORIZATION dbo;'\n",
                "END\n",
                ";\n",
                "\n",
                "GO\n",
                "-- Creating Staging Schema\n",
                "IF NOT EXISTS (SELECT * FROM sys.schemas WHERE name = 'stg' ) \n",
                "BEGIN\n",
                "\tEXEC sp_executesql N'CREATE SCHEMA stg AUTHORIZATION dbo;'\n",
                "END\n",
                ";\n",
                "\n",
                "GO\n",
                "-- Creating Fact Schema\n",
                "IF NOT EXISTS (SELECT * FROM sys.schemas WHERE name = 'f' ) \n",
                "BEGIN\n",
                "\tEXEC sp_executesql N'CREATE SCHEMA f AUTHORIZATION dbo;'\n",
                "END\n",
                ";\n",
                "\n",
                "GO\n",
                "\n",
                "```"
            ],
            "metadata": {
                "azdata_cell_guid": "e847e8cb-cb3d-4f26-bf06-33930acf1ac5"
            },
            "attachments": {}
        },
        {
            "cell_type": "markdown",
            "source": [
                "<span style=\"color: var(--vscode-foreground);\">The datamart will be constructed as the following Entity Relationship Diagram and follow a star schema:</span>\n",
                "\n",
                "<span style=\"color: var(--vscode-foreground);\"><br></span>\n",
                "\n",
                "<span style=\"color: var(--vscode-foreground);\"><br></span>"
            ],
            "metadata": {
                "azdata_cell_guid": "77048387-2e25-4bcf-a5c9-43af622c8f1f"
            },
            "attachments": {}
        },
        {
            "cell_type": "markdown",
            "source": [
                "### **📍2. Dimension tables creation**\n",
                "\n",
                "Tables Creation:\n",
                "\n",
                "| Dimension Table     | Description                                                                          |\n",
                "|---------------------|--------------------------------------------------------------------------------------|\n",
                "| `dim.Machines`      | Machine details like Machine ID, model, and age.                                    |\n",
                "| `dim.Errors`        | Logs machine errors.                                                                |\n",
                "| `dim.Failures`      | Logs machine failures.                                                              |\n",
                "| `dim.Maintenance`   | Tracks maintenance history for machine components.                                  |\n",
                "| `dim.Calendar`      | Time dimension for analysis, including date, month, and year.                       |\n",
                "\n",
                "\n",
                ""
            ],
            "metadata": {
                "azdata_cell_guid": "e6d78e69-c834-4398-8fbc-418e24789e4f"
            },
            "attachments": {}
        },
        {
            "cell_type": "markdown",
            "source": [
                "### **📍3. Fact table creation**\n",
                "\n",
                "`f.Telemetry`: fact table that aggregates telemetry performance metrics over time\n",
                "\n",
                "Sensor Data Aggregation:\n",
                "Calculate averages, maximums, or trends (e.g., daily average temperature per machine).\n",
                "Correlations with Failures or Errors:\n",
                "Link telemetry data to failures, errors, or maintenance events to identify patterns.\n",
                "In these cases, telemetry becomes a fact table, as it stores measurable events linked to dimensions like machines and time.\n",
                "\n",
                " telemetry fact table might look:\n",
                "\n",
                "\n",
                "TelemetryID\tINT (PK)\tUnique identifier for the telemetry record.\n",
                "fkMachineID\tINT (FK)\tForeign key linking to dim.Machines.\n",
                "fkCalendarID\tINT (FK)\tForeign key linking to dim.Calendar.\n",
                "Temperature\tFLOAT\tTemperature reading from sensors.\n",
                "Vibration\tFLOAT\tVibration level reading from sensors.\n",
                "Pressure\tFLOAT\tPressure level reading from sensors.\n",
                "Timestamp\tDATETIME\tTimestamp of the telemetry reading.\n",
                "\n",
                "Granular Data: Each row represents a telemetry event (e.g., sensor reading at a specific time).\n",
                "Measurable Metrics: Contains numerical data like temperature, pressure, or vibration.\n",
                "Aggregation Potential: You can aggregate telemetry data to create trends or summaries.\n",
                "\n",
                "Fact Table: f.AggregatedTelemetry\n",
                "Column Name\tData Type\tDescription\n",
                "fkMachineID\tINT (FK)\tForeign key linking to dim.Machines.\n",
                "fkCalendarID\tINT (FK)\tForeign key linking to dim.Calendar.\n",
                "AvgTemperature\tFLOAT\tAverage temperature over a period.\n",
                "AvgVibration\tFLOAT\tAverage vibration level over a period.\n",
                "MaxPressure\tFLOAT\tMaximum pressure over a period.\n",
                ""
            ],
            "metadata": {
                "azdata_cell_guid": "f4745fe5-7d09-4300-86bc-1199d87600c6"
            },
            "attachments": {}
        },
        {
            "cell_type": "markdown",
            "source": [
                "The full SQL scripts for the datamart creation can be found \\[here\\]."
            ],
            "metadata": {
                "azdata_cell_guid": "16dc0b49-84a5-4fc9-8c15-fc5ae931f475"
            },
            "attachments": {}
        },
        {
            "cell_type": "markdown",
            "source": [
                "## 🖥️ **Data Loading**\n",
                "\n",
                "A test database, called Sandbox, was created to run the SQL scripts and ensure it is runable to load data into the datamart.  \n",
                "\n",
                "\n",
                "### **📍1. Load data into staging tables**\n",
                "\n",
                "\n",
                "text\n",
                "\n",
                "\n",
                "### **📍2. Loading Dimension tables**\n",
                "\n",
                "Loading Dimension tables\n",
                "\n",
                "dim.Machines\n",
                "\n",
                "```\n",
                "INSERT INTO dim.Machines(MachineID, Age, Model)\n",
                "    SELECT MachineID\n",
                "          ,Age \n",
                "          ,nwc.City\n",
                "          ,nwc.Country\n",
                "          ,CAST(getdate() as DATE)\n",
                "          ,concat('Country = ', nwc.Country) \n",
                "    FROM stg.Machines\n",
                "    WHERE nwc.CustomerID not in (SELECT CustomerID FROM dim.Customers)\n",
                ";\n",
                "GO\n",
                "\n",
                "```"
            ],
            "metadata": {
                "azdata_cell_guid": "0d3cbdb4-91d4-4abe-90da-1cdfd5009837"
            },
            "attachments": {}
        },
        {
            "cell_type": "markdown",
            "source": [
                "The full SQL scripts for loading datamart creation can be found \\[here\\]."
            ],
            "metadata": {
                "azdata_cell_guid": "d052f37d-086c-44fb-8842-df860e47d69e"
            },
            "attachments": {}
        },
        {
            "cell_type": "markdown",
            "source": [
                "_References_\n",
                "\n",
                "_All emojis in this notebook are sourced from [emojicopy](https:\\emojicopy.com\\)._\n",
                "\n",
                "_The datamart was created based on the principles of Star Schema Design as outlined by [Ralph Kimball](https://www.kimballgroup.com/data-warehouse-business-intelligence-resources/kimball-techniques/dimensional-modeling-techniques/)._"
            ],
            "metadata": {
                "azdata_cell_guid": "2b44ff3c-8b23-4506-af19-75c8b91151fc"
            },
            "attachments": {}
        }
    ]
}